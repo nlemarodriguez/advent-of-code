{
 "cells": [
  {
   "cell_type": "code",
   "execution_count": 1,
   "metadata": {},
   "outputs": [],
   "source": [
    "import numpy as np"
   ]
  },
  {
   "cell_type": "code",
   "execution_count": 20,
   "metadata": {},
   "outputs": [],
   "source": [
    "with open(\"data_1.txt\") as f:\n",
    "    numbers = f.read()"
   ]
  },
  {
   "cell_type": "code",
   "execution_count": 21,
   "metadata": {},
   "outputs": [
    {
     "name": "stdout",
     "output_type": "stream",
     "text": [
      "[[3 0 0 ... 2 1 1]\n",
      " [1 3 3 ... 0 3 0]\n",
      " [2 1 3 ... 1 3 3]\n",
      " ...\n",
      " [3 1 0 ... 1 2 1]\n",
      " [0 1 2 ... 2 3 0]\n",
      " [3 1 1 ... 0 2 2]]\n"
     ]
    }
   ],
   "source": [
    "complete_list = []\n",
    "temp_list = []\n",
    "for number in numbers:\n",
    "    if number == \"\\n\":\n",
    "        complete_list.append(temp_list)\n",
    "        temp_list = []\n",
    "    else:\n",
    "        temp_list.append(int(number))\n",
    "complete_list.append(temp_list)\n",
    "\n",
    "matrix = np.array(complete_list)\n",
    "print(matrix)\n",
    "\n"
   ]
  },
  {
   "cell_type": "code",
   "execution_count": 22,
   "metadata": {},
   "outputs": [
    {
     "name": "stdout",
     "output_type": "stream",
     "text": [
      "visibles: 1717\n"
     ]
    }
   ],
   "source": [
    "visibles = 0\n",
    "for i in range(matrix.shape[0]):\n",
    "    for j in range(matrix.shape[1]):\n",
    "        if i in (0, matrix.shape[0] - 1) or j in (0, matrix.shape[1] - 1):\n",
    "            visibles += 1\n",
    "            continue\n",
    "        else:\n",
    "            up_list = matrix[:i, j]\n",
    "            rigth_list = matrix[i, j+1:]\n",
    "            down_list = matrix[i+1:, j]\n",
    "            left_list = matrix[i, :j]\n",
    "            if matrix[i, j] > up_list.max() or matrix[i, j] > rigth_list.max() or matrix[i, j] > down_list.max() or matrix[i, j] > left_list.max():\n",
    "                visibles += 1\n",
    "\n",
    "print(\"visibles:\", visibles)"
   ]
  }
 ],
 "metadata": {
  "kernelspec": {
   "display_name": ".env",
   "language": "python",
   "name": "python3"
  },
  "language_info": {
   "codemirror_mode": {
    "name": "ipython",
    "version": 3
   },
   "file_extension": ".py",
   "mimetype": "text/x-python",
   "name": "python",
   "nbconvert_exporter": "python",
   "pygments_lexer": "ipython3",
   "version": "3.11.4"
  },
  "orig_nbformat": 4
 },
 "nbformat": 4,
 "nbformat_minor": 2
}
